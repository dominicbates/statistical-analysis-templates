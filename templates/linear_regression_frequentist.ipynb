{
 "cells": [
  {
   "cell_type": "markdown",
   "id": "9ad09464-a5e2-4b29-a8ae-5a7544e65aa1",
   "metadata": {},
   "source": [
    "### Import Modules"
   ]
  },
  {
   "cell_type": "code",
   "execution_count": 7,
   "id": "7aa00156-05e5-42c5-a6c2-58869385603e",
   "metadata": {},
   "outputs": [],
   "source": [
    "import numpy as np\n",
    "import pandas as pd\n",
    "import statsmodels.api as sm\n",
    "import os\n",
    "from scipy.stats import norm\n",
    "import matplotlib.pyplot as plt"
   ]
  },
  {
   "cell_type": "markdown",
   "id": "1fc576f8-99c3-4d42-88af-0a32ceb687e9",
   "metadata": {},
   "source": [
    "### Create some fake data"
   ]
  },
  {
   "cell_type": "code",
   "execution_count": 29,
   "id": "a44614a2-3b17-40b9-982d-193fe640791f",
   "metadata": {},
   "outputs": [],
   "source": [
    "data_size = 15\n",
    "\n",
    "# Create three independant variables\n",
    "np.random.seed(0)\n",
    "f1 = np.random.rand(data_size)*3\n",
    "f2 = np.random.rand(data_size)*2\n",
    "f3 = np.random.rand(data_size)/2\n",
    "\n",
    "# Sum linearly and add some noise\n",
    "out = (2*f1) + (1*f2) + (-1*f3) + np.random.rand(data_size)"
   ]
  },
  {
   "cell_type": "code",
   "execution_count": 30,
   "id": "5bd30939-c74b-4937-b06f-0c529e469c13",
   "metadata": {},
   "outputs": [],
   "source": [
    "df = pd.DataFrame({\n",
    "    'feature_1':f1,\n",
    "    'feature_2':f2,\n",
    "    'feature_3':f3,\n",
    "    'target':out\n",
    "})"
   ]
  },
  {
   "cell_type": "code",
   "execution_count": 31,
   "id": "4abf4eee-de1e-46c5-8abe-30feb1810e2c",
   "metadata": {},
   "outputs": [
    {
     "data": {
      "image/png": "[encoded data removed]",
      "text/plain": [
       "<Figure size 300x200 with 1 Axes>"
      ]
     },
     "metadata": {},
     "output_type": "display_data"
    },
    {
     "data": {
      "image/png": "[encoded data removed]",
      "text/plain": [
       "<Figure size 300x200 with 1 Axes>"
      ]
     },
     "metadata": {},
     "output_type": "display_data"
    },
    {
     "data": {
      "image/png": "[encoded data removed]",
      "text/plain": [
       "<Figure size 300x200 with 1 Axes>"
      ]
     },
     "metadata": {},
     "output_type": "display_data"
    }
   ],
   "source": [
    "count = 0\n",
    "for feature in [f for f in list(df) if f!='target']:\n",
    "    plt.figure(figsize=(3,2))\n",
    "    plt.plot(df[feature], df['target'], f'C{count}.', markersize=7)\n",
    "    plt.ylabel('Target')\n",
    "    plt.xlabel(feature)\n",
    "    count+=1"
   ]
  },
  {
   "cell_type": "code",
   "execution_count": 32,
   "id": "0dd7d85a-b4a8-46c2-aac3-62e0d32e04f2",
   "metadata": {},
   "outputs": [
    {
     "data": {
      "text/html": [
       "<div>\n",
       "<style scoped>\n",
       "    .dataframe tbody tr th:only-of-type {\n",
       "        vertical-align: middle;\n",
       "    }\n",
       "\n",
       "    .dataframe tbody tr th {\n",
       "        vertical-align: top;\n",
       "    }\n",
       "\n",
       "    .dataframe thead th {\n",
       "        text-align: right;\n",
       "    }\n",
       "</style>\n",
       "<table border=\"1\" class=\"dataframe\">\n",
       "  <thead>\n",
       "    <tr style=\"text-align: right;\">\n",
       "      <th></th>\n",
       "      <th>feature_1</th>\n",
       "      <th>feature_2</th>\n",
       "      <th>feature_3</th>\n",
       "      <th>target</th>\n",
       "    </tr>\n",
       "  </thead>\n",
       "  <tbody>\n",
       "    <tr>\n",
       "      <th>0</th>\n",
       "      <td>1.646441</td>\n",
       "      <td>0.174259</td>\n",
       "      <td>0.132278</td>\n",
       "      <td>4.005500</td>\n",
       "    </tr>\n",
       "    <tr>\n",
       "      <th>1</th>\n",
       "      <td>2.145568</td>\n",
       "      <td>0.040437</td>\n",
       "      <td>0.387117</td>\n",
       "      <td>4.154839</td>\n",
       "    </tr>\n",
       "    <tr>\n",
       "      <th>2</th>\n",
       "      <td>1.808290</td>\n",
       "      <td>1.665240</td>\n",
       "      <td>0.228075</td>\n",
       "      <td>5.182671</td>\n",
       "    </tr>\n",
       "    <tr>\n",
       "      <th>3</th>\n",
       "      <td>1.634650</td>\n",
       "      <td>1.556314</td>\n",
       "      <td>0.284217</td>\n",
       "      <td>4.856824</td>\n",
       "    </tr>\n",
       "    <tr>\n",
       "      <th>4</th>\n",
       "      <td>1.270964</td>\n",
       "      <td>1.740024</td>\n",
       "      <td>0.009395</td>\n",
       "      <td>4.636269</td>\n",
       "    </tr>\n",
       "  </tbody>\n",
       "</table>\n",
       "</div>"
      ],
      "text/plain": [
       "   feature_1  feature_2  feature_3    target\n",
       "0   1.646441   0.174259   0.132278  4.005500\n",
       "1   2.145568   0.040437   0.387117  4.154839\n",
       "2   1.808290   1.665240   0.228075  5.182671\n",
       "3   1.634650   1.556314   0.284217  4.856824\n",
       "4   1.270964   1.740024   0.009395  4.636269"
      ]
     },
     "execution_count": 32,
     "metadata": {},
     "output_type": "execute_result"
    }
   ],
   "source": [
    "df.head(5)"
   ]
  },
  {
   "cell_type": "code",
   "execution_count": 33,
   "id": "b9f695b0-7d07-496b-b020-876b26d70fd3",
   "metadata": {},
   "outputs": [],
   "source": [
    "# Define features and target\n",
    "features = ['feature_1', 'feature_2', 'feature_3']\n",
    "target = 'target'"
   ]
  },
  {
   "cell_type": "markdown",
   "id": "1fdb3844-947b-4d2c-9a15-753b3e8b5357",
   "metadata": {},
   "source": [
    "### Fit linear model"
   ]
  },
  {
   "cell_type": "code",
   "execution_count": 34,
   "id": "934ee5c1-4d8a-4e1b-af66-26a8c6b907f6",
   "metadata": {},
   "outputs": [],
   "source": [
    "# Prep data\n",
    "X = sm.add_constant(df[features])\n",
    "y = df[target]\n",
    "\n",
    "# Fit model\n",
    "model = sm.OLS(y, X).fit()\n"
   ]
  },
  {
   "cell_type": "markdown",
   "id": "bfe0c63d-004b-4991-b769-128421f0a9c4",
   "metadata": {},
   "source": [
    "### Print stats"
   ]
  },
  {
   "cell_type": "code",
   "execution_count": 35,
   "id": "7b50056f-e9af-4c7e-97b1-4549062220b2",
   "metadata": {},
   "outputs": [
    {
     "name": "stderr",
     "output_type": "stream",
     "text": [
      "/Users/dominicbates/Documents/Github/statistical-analysis-templates/stats_env/lib/python3.9/site-packages/scipy/stats/_axis_nan_policy.py:531: UserWarning: kurtosistest only valid for n>=20 ... continuing anyway, n=15\n",
      "  res = hypotest_fun_out(*samples, **kwds)\n"
     ]
    },
    {
     "data": {
      "text/html": [
       "<table class=\"simpletable\">\n",
       "<caption>OLS Regression Results</caption>\n",
       "<tr>\n",
       "  <th>Dep. Variable:</th>         <td>target</td>      <th>  R-squared:         </th> <td>   0.981</td>\n",
       "</tr>\n",
       "<tr>\n",
       "  <th>Model:</th>                   <td>OLS</td>       <th>  Adj. R-squared:    </th> <td>   0.976</td>\n",
       "</tr>\n",
       "<tr>\n",
       "  <th>Method:</th>             <td>Least Squares</td>  <th>  F-statistic:       </th> <td>   189.9</td>\n",
       "</tr>\n",
       "<tr>\n",
       "  <th>Date:</th>             <td>Wed, 08 Jan 2025</td> <th>  Prob (F-statistic):</th> <td>9.41e-10</td>\n",
       "</tr>\n",
       "<tr>\n",
       "  <th>Time:</th>                 <td>18:55:07</td>     <th>  Log-Likelihood:    </th> <td>  1.3392</td>\n",
       "</tr>\n",
       "<tr>\n",
       "  <th>No. Observations:</th>      <td>    15</td>      <th>  AIC:               </th> <td>   5.322</td>\n",
       "</tr>\n",
       "<tr>\n",
       "  <th>Df Residuals:</th>          <td>    11</td>      <th>  BIC:               </th> <td>   8.154</td>\n",
       "</tr>\n",
       "<tr>\n",
       "  <th>Df Model:</th>              <td>     3</td>      <th>                     </th>     <td> </td>   \n",
       "</tr>\n",
       "<tr>\n",
       "  <th>Covariance Type:</th>      <td>nonrobust</td>    <th>                     </th>     <td> </td>   \n",
       "</tr>\n",
       "</table>\n",
       "<table class=\"simpletable\">\n",
       "<tr>\n",
       "      <td></td>         <th>coef</th>     <th>std err</th>      <th>t</th>      <th>P>|t|</th>  <th>[0.025</th>    <th>0.975]</th>  \n",
       "</tr>\n",
       "<tr>\n",
       "  <th>const</th>     <td>    0.4984</td> <td>    0.255</td> <td>    1.958</td> <td> 0.076</td> <td>   -0.062</td> <td>    1.059</td>\n",
       "</tr>\n",
       "<tr>\n",
       "  <th>feature_1</th> <td>    2.0645</td> <td>    0.099</td> <td>   20.921</td> <td> 0.000</td> <td>    1.847</td> <td>    2.282</td>\n",
       "</tr>\n",
       "<tr>\n",
       "  <th>feature_2</th> <td>    0.9118</td> <td>    0.104</td> <td>    8.786</td> <td> 0.000</td> <td>    0.683</td> <td>    1.140</td>\n",
       "</tr>\n",
       "<tr>\n",
       "  <th>feature_3</th> <td>   -1.5071</td> <td>    0.540</td> <td>   -2.793</td> <td> 0.017</td> <td>   -2.695</td> <td>   -0.319</td>\n",
       "</tr>\n",
       "</table>\n",
       "<table class=\"simpletable\">\n",
       "<tr>\n",
       "  <th>Omnibus:</th>       <td> 3.875</td> <th>  Durbin-Watson:     </th> <td>   1.844</td>\n",
       "</tr>\n",
       "<tr>\n",
       "  <th>Prob(Omnibus):</th> <td> 0.144</td> <th>  Jarque-Bera (JB):  </th> <td>   2.012</td>\n",
       "</tr>\n",
       "<tr>\n",
       "  <th>Skew:</th>          <td> 0.887</td> <th>  Prob(JB):          </th> <td>   0.366</td>\n",
       "</tr>\n",
       "<tr>\n",
       "  <th>Kurtosis:</th>      <td> 3.270</td> <th>  Cond. No.          </th> <td>    20.6</td>\n",
       "</tr>\n",
       "</table><br/><br/>Notes:<br/>[1] Standard Errors assume that the covariance matrix of the errors is correctly specified."
      ],
      "text/latex": [
       "\\begin{center}\n",
       "\\begin{tabular}{lclc}\n",
       "\\toprule\n",
       "\\textbf{Dep. Variable:}    &      target      & \\textbf{  R-squared:         } &     0.981   \\\\\n",
       "\\textbf{Model:}            &       OLS        & \\textbf{  Adj. R-squared:    } &     0.976   \\\\\n",
       "\\textbf{Method:}           &  Least Squares   & \\textbf{  F-statistic:       } &     189.9   \\\\\n",
       "\\textbf{Date:}             & Wed, 08 Jan 2025 & \\textbf{  Prob (F-statistic):} &  9.41e-10   \\\\\n",
       "\\textbf{Time:}             &     18:55:07     & \\textbf{  Log-Likelihood:    } &    1.3392   \\\\\n",
       "\\textbf{No. Observations:} &          15      & \\textbf{  AIC:               } &     5.322   \\\\\n",
       "\\textbf{Df Residuals:}     &          11      & \\textbf{  BIC:               } &     8.154   \\\\\n",
       "\\textbf{Df Model:}         &           3      & \\textbf{                     } &             \\\\\n",
       "\\textbf{Covariance Type:}  &    nonrobust     & \\textbf{                     } &             \\\\\n",
       "\\bottomrule\n",
       "\\end{tabular}\n",
       "\\begin{tabular}{lcccccc}\n",
       "                    & \\textbf{coef} & \\textbf{std err} & \\textbf{t} & \\textbf{P$> |$t$|$} & \\textbf{[0.025} & \\textbf{0.975]}  \\\\\n",
       "\\midrule\n",
       "\\textbf{const}      &       0.4984  &        0.255     &     1.958  &         0.076        &       -0.062    &        1.059     \\\\\n",
       "\\textbf{feature\\_1} &       2.0645  &        0.099     &    20.921  &         0.000        &        1.847    &        2.282     \\\\\n",
       "\\textbf{feature\\_2} &       0.9118  &        0.104     &     8.786  &         0.000        &        0.683    &        1.140     \\\\\n",
       "\\textbf{feature\\_3} &      -1.5071  &        0.540     &    -2.793  &         0.017        &       -2.695    &       -0.319     \\\\\n",
       "\\bottomrule\n",
       "\\end{tabular}\n",
       "\\begin{tabular}{lclc}\n",
       "\\textbf{Omnibus:}       &  3.875 & \\textbf{  Durbin-Watson:     } &    1.844  \\\\\n",
       "\\textbf{Prob(Omnibus):} &  0.144 & \\textbf{  Jarque-Bera (JB):  } &    2.012  \\\\\n",
       "\\textbf{Skew:}          &  0.887 & \\textbf{  Prob(JB):          } &    0.366  \\\\\n",
       "\\textbf{Kurtosis:}      &  3.270 & \\textbf{  Cond. No.          } &     20.6  \\\\\n",
       "\\bottomrule\n",
       "\\end{tabular}\n",
       "%\\caption{OLS Regression Results}\n",
       "\\end{center}\n",
       "\n",
       "Notes: \\newline\n",
       " [1] Standard Errors assume that the covariance matrix of the errors is correctly specified."
      ],
      "text/plain": [
       "<class 'statsmodels.iolib.summary.Summary'>\n",
       "\"\"\"\n",
       "                            OLS Regression Results                            \n",
       "==============================================================================\n",
       "Dep. Variable:                 target   R-squared:                       0.981\n",
       "Model:                            OLS   Adj. R-squared:                  0.976\n",
       "Method:                 Least Squares   F-statistic:                     189.9\n",
       "Date:                Wed, 08 Jan 2025   Prob (F-statistic):           9.41e-10\n",
       "Time:                        18:55:07   Log-Likelihood:                 1.3392\n",
       "No. Observations:                  15   AIC:                             5.322\n",
       "Df Residuals:                      11   BIC:                             8.154\n",
       "Df Model:                           3                                         \n",
       "Covariance Type:            nonrobust                                         \n",
       "==============================================================================\n",
       "                 coef    std err          t      P>|t|      [0.025      0.975]\n",
       "------------------------------------------------------------------------------\n",
       "const          0.4984      0.255      1.958      0.076      -0.062       1.059\n",
       "feature_1      2.0645      0.099     20.921      0.000       1.847       2.282\n",
       "feature_2      0.9118      0.104      8.786      0.000       0.683       1.140\n",
       "feature_3     -1.5071      0.540     -2.793      0.017      -2.695      -0.319\n",
       "==============================================================================\n",
       "Omnibus:                        3.875   Durbin-Watson:                   1.844\n",
       "Prob(Omnibus):                  0.144   Jarque-Bera (JB):                2.012\n",
       "Skew:                           0.887   Prob(JB):                        0.366\n",
       "Kurtosis:                       3.270   Cond. No.                         20.6\n",
       "==============================================================================\n",
       "\n",
       "Notes:\n",
       "[1] Standard Errors assume that the covariance matrix of the errors is correctly specified.\n",
       "\"\"\""
      ]
     },
     "execution_count": 35,
     "metadata": {},
     "output_type": "execute_result"
    }
   ],
   "source": [
    "model.summary()"
   ]
  },
  {
   "cell_type": "markdown",
   "id": "40ca6e9c-d387-428a-8aec-0ca13269e821",
   "metadata": {},
   "source": [
    "### Test some hypotheses"
   ]
  },
  {
   "cell_type": "code",
   "execution_count": 48,
   "id": "a8b62fb6-a327-4e5d-8bbc-3b374d3f7f2c",
   "metadata": {},
   "outputs": [],
   "source": [
    "def p_greater(model, feature1, feature2):\n",
    "    '''\n",
    "    Compute probability beta_1 is greater than beta_2. (I.e. impact of\n",
    "    feature 1 is more positive than that of feature 2)\n",
    "    '''\n",
    "    \n",
    "    # Extract coefficients and covariance\n",
    "    params = model.params\n",
    "    cov_matrix = model.cov_params()\n",
    "    \n",
    "    # Difference in parameter estimates\n",
    "    mu_delta = params[feature1] - params[feature2]\n",
    "    \n",
    "    # Combined standard error (accounting for covariance)\n",
    "    var_delta = (\n",
    "        cov_matrix.loc[feature1, feature1] + \n",
    "        cov_matrix.loc[feature2, feature2] - \n",
    "        2 * cov_matrix.loc[feature1, feature2]\n",
    "    )\n",
    "    \n",
    "    # Probability that beta1 > beta2\n",
    "    # mu_ste = np.sqrt(var_delta)\n",
    "    # probability = 1 - norm.cdf(0, loc=mu_delta, scale=mu_ste)\n",
    "\n",
    "    # Compute standard deviation of Delta\n",
    "    std_delta = var_delta ** 0.5\n",
    "    \n",
    "    # Probability that beta1 > beta2\n",
    "    probability = 1 - norm.cdf(0, loc=mu_delta, scale=std_delta)\n",
    "\n",
    "    return probability\n",
    "\n",
    "\n",
    "def p_greater_zero(model, feature):\n",
    "    '''\n",
    "    Compute probability that beta is greater than 0 (i.e. impact of feature \n",
    "    is positive)\n",
    "    '''\n",
    "    \n",
    "    # Extract mean and se\n",
    "    mean = model.params[feature]\n",
    "    se = model.bse[feature]\n",
    "    \n",
    "    # Compute the Z-score\n",
    "    z_score = mean / se\n",
    "    \n",
    "    # Compute the probability that beta_3 > 0\n",
    "    probability = 1 - norm.cdf(0, loc=mean, scale=se)\n",
    "\n",
    "    # Using the Z-score to find the probability instead\n",
    "    # probability_z = norm.cdf(z_score)\n",
    "\n",
    "    return probability\n",
    "    "
   ]
  },
  {
   "cell_type": "code",
   "execution_count": 47,
   "id": "f37bf328-4b05-416b-93a7-75a23d3bb564",
   "metadata": {},
   "outputs": [
    {
     "name": "stdout",
     "output_type": "stream",
     "text": [
      "Prob f2 > f3: 1.000\n",
      "Prob f3 > 0: 0.003\n"
     ]
    }
   ],
   "source": [
    "print(f'Prob f2 > f3: {p_greater(model, features[1], features[2]):.3f}')\n",
    "print(f'Prob f3 > 0: {p_greater_zero(model, features[2]):.3f}')"
   ]
  },
  {
   "cell_type": "code",
   "execution_count": null,
   "id": "a5b024d6-3b28-4c87-98fe-9991aab4daf9",
   "metadata": {},
   "outputs": [],
   "source": []
  },
  {
   "cell_type": "code",
   "execution_count": null,
   "id": "86dd59ac-01a7-44f5-a49a-41a81264c54b",
   "metadata": {},
   "outputs": [],
   "source": []
  },
  {
   "cell_type": "code",
   "execution_count": null,
   "id": "d6686ff7-14e4-48d7-a2f6-dd56149054ba",
   "metadata": {},
   "outputs": [],
   "source": []
  },
  {
   "cell_type": "code",
   "execution_count": null,
   "id": "70c286e8-c4be-41ca-a0c9-c8a942d91b0b",
   "metadata": {},
   "outputs": [],
   "source": []
  },
  {
   "cell_type": "code",
   "execution_count": null,
   "id": "3a062769-f9ed-4a23-af91-bdfb60664fab",
   "metadata": {},
   "outputs": [],
   "source": []
  }
 ],
 "metadata": {
  "kernelspec": {
   "display_name": "stats_env",
   "language": "python",
   "name": "stats_env"
  },
  "language_info": {
   "codemirror_mode": {
    "name": "ipython",
    "version": 3
   },
   "file_extension": ".py",
   "mimetype": "text/x-python",
   "name": "python",
   "nbconvert_exporter": "python",
   "pygments_lexer": "ipython3",
   "version": "3.9.6"
  }
 },
 "nbformat": 4,
 "nbformat_minor": 5
}
